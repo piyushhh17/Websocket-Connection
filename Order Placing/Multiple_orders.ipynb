{
 "cells": [
  {
   "cell_type": "code",
   "execution_count": null,
   "metadata": {},
   "outputs": [],
   "source": [
    "access_tokens = []\n",
    "api_keys = []"
   ]
  },
  {
   "cell_type": "code",
   "execution_count": null,
   "metadata": {},
   "outputs": [],
   "source": [
    "from kiteconnect import KiteConnect\n",
    "for api_key, access_token in zip(api_keys, access_tokens):\n",
    "    # Initialize KiteConnect instance\n",
    "    kite = KiteConnect(api_key)\n",
    "    kite.set_access_token(access_token)\n",
    "    \n",
    "    #place buy or sell order"
   ]
  },
  {
   "cell_type": "code",
   "execution_count": null,
   "metadata": {},
   "outputs": [],
   "source": [
    "def buy_place_order_mkt(symbol, order_quantity):    \n",
    "    order_id = kite.place_order(\n",
    "        variety=kite.VARIETY_REGULAR,\n",
    "        exchange=kite.EXCHANGE_NSE,\n",
    "        tradingsymbol=symbol,\n",
    "        quantity=order_quantity,\n",
    "        order_type=kite.ORDER_TYPE_MARKET,\n",
    "        product=kite.PRODUCT_MIS,\n",
    "        transaction_type=kite.TRANSACTION_TYPE_BUY\n",
    "    )\n",
    "\n",
    "\n",
    "    print(\"Buy order placed successfully. Order ID:\", order_id)"
   ]
  },
  {
   "cell_type": "code",
   "execution_count": null,
   "metadata": {},
   "outputs": [],
   "source": [
    "def sell_place_order_mkt(symbol, order_quantity):    \n",
    "    order_id = kite.place_order(\n",
    "        variety=kite.VARIETY_REGULAR,\n",
    "        exchange=kite.EXCHANGE_NSE,\n",
    "        tradingsymbol=symbol,\n",
    "        quantity=order_quantity,\n",
    "        order_type=kite.ORDER_TYPE_MARKET,\n",
    "        product=kite.PRODUCT_MIS,\n",
    "        transaction_type=kite.TRANSACTION_TYPE_SELL\n",
    "    )\n",
    "\n",
    "\n",
    "    print(\"Order placed successfully. Order ID:\", order_id)"
   ]
  },
  {
   "cell_type": "markdown",
   "metadata": {},
   "source": [
    "### Three types of orders"
   ]
  },
  {
   "cell_type": "markdown",
   "metadata": {},
   "source": [
    "#### Limit order"
   ]
  },
  {
   "cell_type": "code",
   "execution_count": null,
   "metadata": {},
   "outputs": [],
   "source": [
    "def sell_place_order_lim(symbol, order_quantity, trigger_price):    \n",
    "    order_id = kite.place_order(\n",
    "        variety=kite.VARIETY_REGULAR,\n",
    "        exchange=kite.EXCHANGE_NSE,\n",
    "        tradingsymbol=symbol,\n",
    "        quantity=order_quantity,\n",
    "        order_type=kite.ORDER_TYPE_LIMIT,\n",
    "        product=kite.PRODUCT_MIS,\n",
    "        trigger_price = trigger_price,\n",
    "        transaction_type=kite.TRANSACTION_TYPE_SELL\n",
    "    )\n",
    "\n",
    "\n",
    "    print(\"Order placed successfully. Order ID:\", order_id)\n",
    "\n",
    "def buy_place_order_lim(symbol, order_quantity, trigger_price):    \n",
    "    order_id = kite.place_order(\n",
    "        variety=kite.VARIETY_REGULAR,\n",
    "        exchange=kite.EXCHANGE_NSE,\n",
    "        tradingsymbol=symbol,\n",
    "        quantity=order_quantity,\n",
    "        order_type=kite.ORDER_TYPE_LIMIT,\n",
    "        product=kite.PRODUCT_MIS,\n",
    "        trigger_price = trigger_price,\n",
    "        transaction_type=kite.TRANSACTION_TYPE_BUY\n",
    "    )\n",
    "\n",
    "\n",
    "    print(\"Order placed successfully. Order ID:\", order_id)\n"
   ]
  },
  {
   "cell_type": "markdown",
   "metadata": {},
   "source": [
    "#### There are two types of Stop-Loss orders: \n",
    "#### SL order (Stop-Loss Limit) = Price + Trigger Price. \n",
    "#### and \n",
    "#### SL-M order (Stop-Loss Market) = Only Trigger Price."
   ]
  },
  {
   "cell_type": "markdown",
   "metadata": {},
   "source": [
    "##### Sl order-limit"
   ]
  },
  {
   "cell_type": "code",
   "execution_count": null,
   "metadata": {},
   "outputs": [],
   "source": [
    "# here we have a price and a trigger price.\n",
    "order_id = kite.place_order(\n",
    "    variety='regular',\n",
    "    exchange=exchange,\n",
    "    tradingsymbol=symbol,\n",
    "    transaction_type=transaction_type,\n",
    "    quantity=quantity,\n",
    "    order_type=kite.ORDER_TYPE_SL,\n",
    "    price=price,\n",
    "    trigger_price=trigger_price,\n",
    "    validity='DAY',  # DAY or IOC\n",
    "    transaction_type=kite.TRANSACTION_TYPE_SELL, #sell for buy position and vice-versa\n",
    "    product=kite.PRODUCT_MIS  # CNC for delivery-based orders, MIS for intraday\n",
    ")\n",
    "\n",
    "print(f\"SL Order placed successfully. Order ID: {order_id}\")"
   ]
  },
  {
   "cell_type": "markdown",
   "metadata": {},
   "source": [
    "##### SL market"
   ]
  },
  {
   "cell_type": "code",
   "execution_count": null,
   "metadata": {},
   "outputs": [],
   "source": [
    "# we basically put the price itm and make the order be placed instantly\n",
    "order_id = kite.place_order(\n",
    "    variety='regular',\n",
    "    exchange=exchange,\n",
    "    tradingsymbol=symbol,\n",
    "    transaction_type=transaction_type,\n",
    "    quantity=quantity,\n",
    "    order_type=kite.ORDER_TYPE_SL,\n",
    "    price=180, #assume market is 185, the order will be placed instantly.\n",
    "    trigger_price=170,\n",
    "    validity='DAY',  # DAY or IOC\n",
    "    transaction_type=kite.TRANSACTION_TYPE_SELL, #sell for buy position and vice-versa\n",
    "    product=kite.PRODUCT_MIS  # CNC for delivery-based orders, MIS for intraday\n",
    ")\n",
    "\n",
    "print(f\"SL Order placed successfully. Order ID: {order_id}\")"
   ]
  },
  {
   "cell_type": "markdown",
   "metadata": {},
   "source": [
    "### Order with a trigger price and a stop loss. (cover order)"
   ]
  },
  {
   "cell_type": "code",
   "execution_count": null,
   "metadata": {},
   "outputs": [],
   "source": [
    "\n",
    "try:\n",
    "    target_order_id = None\n",
    "    stoploss_order_id = None\n",
    "\n",
    "    while True:\n",
    "        ltp = kite.ltp(instruments)\n",
    "        print(ltp)\n",
    "\n",
    "        if ltp >= trigger_price and not target_order_id:\n",
    "            # Place the target order for the target price\n",
    "            buy_place_order_lim(symbol, order_quantity, trigger_price)\n",
    "            target_order_id = 1\n",
    "            \n",
    "            print(\"Target order placed successfully. Order ID:\", target_order_id)\n",
    "\n",
    "        if ltp <= stop_loss and not stoploss_order_id:\n",
    "            sell_place_order_lim(symbol, order_quantity, trigger_price)\n",
    "            stoploss_order_id = 1\n",
    "           \n",
    "            print(\"Stop-loss order placed successfully. Order ID:\", stoploss_order_id)\n",
    "\n",
    "        if target_order_id or stoploss_order_id:\n",
    "            # Exit the loop if either target or stop-loss order is placed\n",
    "            break\n",
    "\n",
    "    # Wait for the exit order to get executed\n",
    "    # while True:\n",
    "    #     order_status = kite.order_status(target_order_id) if target_order_id else kite.order_status(stoploss_order_id)\n",
    "\n",
    "    #     if order_status[\"status\"] == \"COMPLETE\":\n",
    "    #         print(\"Exit order executed successfully.\")\n",
    "    #         break\n",
    "\n",
    "except Exception as e:\n",
    "    print(\"Order placement failed. Error message:\", str(e))\n"
   ]
  },
  {
   "cell_type": "markdown",
   "metadata": {},
   "source": []
  }
 ],
 "metadata": {
  "kernelspec": {
   "display_name": "base",
   "language": "python",
   "name": "python3"
  },
  "language_info": {
   "name": "python",
   "version": "3.11.3"
  }
 },
 "nbformat": 4,
 "nbformat_minor": 2
}
